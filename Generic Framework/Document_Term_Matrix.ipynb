{
 "cells": [
  {
   "cell_type": "code",
   "execution_count": 103,
   "id": "concerned-impact",
   "metadata": {},
   "outputs": [],
   "source": [
    "#DTM implementaition\n",
    "import pandas as pd\n",
    "import numpy as np\n",
    "import os\n",
    "import matplotlib.pyplot as plt\n",
    "import seaborn as sns\n",
    "sns.set()\n",
    "from nltk.corpus import stopwords\n",
    "from nltk.corpus import opinion_lexicon\n",
    "from sklearn.feature_extraction.text import CountVectorizer"
   ]
  },
  {
   "cell_type": "code",
   "execution_count": 104,
   "id": "trained-retirement",
   "metadata": {},
   "outputs": [],
   "source": [
    "#list all of the mda_files\n",
    "MDA_FILES = os.listdir(\"data/mda\")\n",
    "MDA_FILES = [file for file in MDA_FILES if file!=\".DS SOTRE\"]\n",
    "positive_lexicon = opinion_lexicon.positive()"
   ]
  },
  {
   "cell_type": "code",
   "execution_count": 105,
   "id": "sustainable-trunk",
   "metadata": {},
   "outputs": [],
   "source": [
    "#clean text function implemantation\n",
    "stopwords_lex = set(stopwords.words('english'))\n",
    "def clean_text(mda_text):\n",
    "    mda_words = mda_text.split()\n",
    "    mda_words_cleaned_symbols =[words for words in mda_words if words.isalpha()]\n",
    "    mda_words_harmonized = [words.lower() for words in mda_words_cleaned_symbols]\n",
    "    mda_words_cleaned = [words for words in mda_words_harmonized if words not in stopwords_lex]\n",
    "    return mda_words_cleaned"
   ]
  },
  {
   "cell_type": "code",
   "execution_count": 106,
   "id": "agreed-lightning",
   "metadata": {},
   "outputs": [],
   "source": [
    "# Extract text from all MD&A filings (full sample)\n",
    "mda_text = {}\n",
    "#designig a dic for better view\n",
    "for file in MDA_FILES:\n",
    "    cik = file.split('_')[0]\n",
    "    filing_date = file.split('_')[2].split('.')[0]\n",
    "    cik_filing_date = cik + '_' + filing_date\n",
    "    with open('data/mda/' + file) as f:\n",
    "        text = f.read()\n",
    "    mda_text[cik_filing_date]=text"
   ]
  },
  {
   "cell_type": "code",
   "execution_count": 107,
   "id": "spiritual-syntax",
   "metadata": {},
   "outputs": [],
   "source": [
    "df_text = pd.DataFrame(mda_text, index=['text']).T\n",
    "df_text.reset_index(inplace=True)\n",
    "df_text.columns = ['cik_filing_date', 'mda_text']"
   ]
  },
  {
   "cell_type": "code",
   "execution_count": 108,
   "id": "forbidden-alabama",
   "metadata": {},
   "outputs": [],
   "source": [
    "df_text['cik'] = df_text['cik_filing_date'].apply(lambda x:x.split('_')[0])\n",
    "#type(df_text['cik'][0])  --> output str\n",
    "#parse cik data from str to numeric\n",
    "df_text['cik'] = pd.to_numeric(df_text['cik'])"
   ]
  },
  {
   "cell_type": "code",
   "execution_count": 109,
   "id": "faced-nitrogen",
   "metadata": {},
   "outputs": [],
   "source": [
    "df_text['filing_date']=df_text['cik_filing_date'].apply(lambda x:x.split('_')[1])\n",
    "df_text['filing_date']=pd.to_datetime(df_text['filing_date'] , format='%Y-%m-%d')"
   ]
  },
  {
   "cell_type": "code",
   "execution_count": 110,
   "id": "artificial-challenge",
   "metadata": {},
   "outputs": [],
   "source": [
    "#final arrangment of datafram\n",
    "df_text.drop(columns=['cik_filing_date'] , inplace=True)\n",
    "df_text = df_text[['cik', 'filing_date', 'mda_text']]"
   ]
  },
  {
   "cell_type": "code",
   "execution_count": 111,
   "id": "numerous-philadelphia",
   "metadata": {},
   "outputs": [],
   "source": [
    "df_text['mda_text_clean'] = df_text['mda_text'].apply(clean_text)\n",
    "df_text['num_cleaned_words'] = df_text['mda_text_clean'].apply(lambda x: len(x))\n",
    "df_text['mda_text_clean_str'] = df_text['mda_text_clean'].apply(lambda x: \" \".join(x))"
   ]
  },
  {
   "cell_type": "code",
   "execution_count": 113,
   "id": "smaller-kenya",
   "metadata": {},
   "outputs": [],
   "source": [
    "#dtm vector #codes below are duplicated from a specific site\n",
    "count_vec = CountVectorizer(vocabulary=positive_lexicon)\n",
    "dtm_pos_words = count_vec.fit_transform(df_text['mda_text_clean_str'])\n",
    "dtm_pos_words.toarray()\n",
    "df_dtm_pos_words = pd.DataFrame(dtm_pos_words.toarray())\n",
    "df_dtm_pos_words.columns = count_vec.vocabulary_.keys()"
   ]
  },
  {
   "cell_type": "code",
   "execution_count": 119,
   "id": "exposed-system",
   "metadata": {
    "collapsed": true
   },
   "outputs": [
    {
     "name": "stderr",
     "output_type": "stream",
     "text": [
      "<ipython-input-119-b97f1b1bc14f>:1: SettingWithCopyWarning: \n",
      "A value is trying to be set on a copy of a slice from a DataFrame.\n",
      "Try using .loc[row_indexer,col_indexer] = value instead\n",
      "\n",
      "See the caveats in the documentation: https://pandas.pydata.org/pandas-docs/stable/user_guide/indexing.html#returning-a-view-versus-a-copy\n",
      "  df_text['positive count']=df_dtm_pos_words.sum(axis=1)\n"
     ]
    }
   ],
   "source": [
    "df_text['positive count']=df_dtm_pos_words.sum(axis=1)\n",
    "df_text=df_text[df_text['positive count']>=100]\n",
    "df_text['phi_pos'] = (df_text['positive count']/df_text['num_cleaned_words'])\n",
    "df_te"
   ]
  }
 ],
 "metadata": {
  "kernelspec": {
   "display_name": "Python 3",
   "language": "python",
   "name": "python3"
  },
  "language_info": {
   "codemirror_mode": {
    "name": "ipython",
    "version": 3
   },
   "file_extension": ".py",
   "mimetype": "text/x-python",
   "name": "python",
   "nbconvert_exporter": "python",
   "pygments_lexer": "ipython3",
   "version": "3.8.5"
  }
 },
 "nbformat": 4,
 "nbformat_minor": 5
}
